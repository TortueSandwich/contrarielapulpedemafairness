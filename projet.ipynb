{
 "cells": [
  {
   "cell_type": "code",
   "execution_count": null,
   "metadata": {},
   "outputs": [
    {
     "name": "stdout",
     "output_type": "stream",
     "text": [
      "Les données sont dans : ./data/SAILLANT_ARTHUR\n"
     ]
    }
   ],
   "source": [
    "import os\n",
    "\n",
    "# Charger les variables du fichier .env\n",
    "def load_env_file(env_path=\".env\"):\n",
    "    if os.path.exists(env_path):\n",
    "        with open(env_path, \"r\") as file:\n",
    "            for line in file:\n",
    "                line = line.strip()\n",
    "                if line and not line.startswith(\"#\"):  # Ignorer les commentaires et lignes vides\n",
    "                    key, value = line.split(\"=\", 1)\n",
    "                    os.environ[key] = value  # Définir la variable d'environnement\n",
    "\n",
    "# Charger le fichier .env\n",
    "load_env_file()\n",
    "data_path = os.getenv(\"DATA_DIR\", \"data/default/\")\n",
    "print(f\"Les données sont dans : {data_path}\")\n",
    "data_dir = os.getenv(\"DATA_DIR\", \"data/default/\")\n",
    "if os.path.exists(data_dir) and os.path.isdir(data_dir):\n",
    "    subdirs = [d for d in os.listdir(data_dir) if os.path.isdir(os.path.join(data_dir, d))]\n",
    "    print(f\"Sous-dossiers de {data_dir} : {subdirs}\")\n",
    "else:\n",
    "    print(f\"Le dossier {data_dir} n'existe pas ou n'est pas un dossier.\")\n"
   ]
  },
  {
   "cell_type": "code",
   "execution_count": null,
   "metadata": {},
   "outputs": [
    {
     "name": "stdout",
     "output_type": "stream",
     "text": [
      "Sous-dossiers de ./data/SAILLANT_ARTHUR : ['train', 'valid']\n"
     ]
    }
   ],
   "source": [
    "import os\n",
    "\n"
   ]
  },
  {
   "cell_type": "code",
   "execution_count": null,
   "metadata": {},
   "outputs": [],
   "source": []
  }
 ],
 "metadata": {
  "kernelspec": {
   "display_name": "env",
   "language": "python",
   "name": "python3"
  },
  "language_info": {
   "codemirror_mode": {
    "name": "ipython",
    "version": 3
   },
   "file_extension": ".py",
   "mimetype": "text/x-python",
   "name": "python",
   "nbconvert_exporter": "python",
   "pygments_lexer": "ipython3",
   "version": "3.11.2"
  }
 },
 "nbformat": 4,
 "nbformat_minor": 2
}
